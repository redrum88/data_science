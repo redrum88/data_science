{
  "nbformat": 4,
  "nbformat_minor": 0,
  "metadata": {
    "colab": {
      "provenance": [],
      "authorship_tag": "ABX9TyP3EqSGOyMWhwqDiVOvJdT0",
      "include_colab_link": true
    },
    "kernelspec": {
      "name": "python3",
      "display_name": "Python 3"
    },
    "language_info": {
      "name": "python"
    },
    "accelerator": "GPU",
    "gpuClass": "standard"
  },
  "cells": [
    {
      "cell_type": "markdown",
      "metadata": {
        "id": "view-in-github",
        "colab_type": "text"
      },
      "source": [
        "<a href=\"https://colab.research.google.com/github/redrum88/data_science/blob/main/uk_crimes_2023_01.ipynb\" target=\"_parent\"><img src=\"https://colab.research.google.com/assets/colab-badge.svg\" alt=\"Open In Colab\"/></a>"
      ]
    },
    {
      "cell_type": "markdown",
      "source": [
        "# ⚠️ Crimes in UK 2023 January ⚠️"
      ],
      "metadata": {
        "id": "z3lsck9aL8U7"
      }
    },
    {
      "cell_type": "markdown",
      "source": [
        "## About Dataset"
      ],
      "metadata": {
        "id": "QhNjTJduJs39"
      }
    },
    {
      "cell_type": "markdown",
      "source": [
        "### General Information\n",
        "\n",
        "* **Title:** ASB Incidents, Crime and Outcomes\n",
        "* **Theme:** Crime and Criminal Justice\n",
        "* **Description:** Individual crime and anti-social behaviour (ASB) incidents, including street-level location information and subsequent police and court outcomes associated with the crime.\n",
        "* **Keywords:** police, courts, crime, anti-social behaviour\n",
        "\n",
        "* **Geographic Coverage:** England, Wales, Northern Ireland\n",
        "Publisher: Single Online Home National Digital Team\n",
        "\n",
        "> licence: Open Government Licence v3.0\n",
        "\n",
        "> Language: en-GB\n"
      ],
      "metadata": {
        "id": "c3B60aWCLrfE"
      }
    },
    {
      "cell_type": "markdown",
      "source": [
        "### CSV Columns\n",
        "The columns in the CSV files are as follows:\n",
        "\n",
        "* `Crime ID`\n",
        "* `Month` (when the crime was committed)\n",
        "who reported the crime\n",
        "* `Falls within`( the force that provided the data about the crime. This is currently being looked into and is likely to change in the near future)\n",
        "* `Longitude` and `Latitude`\n",
        "* `Crime Type`\n",
        "* `Last outcome` (A reference to whichever of the outcomes associated with the crime occurred most recently)\n",
        "* `Context` (additional human-readable data about individual crimes)"
      ],
      "metadata": {
        "id": "R4i9u-7xLzWb"
      }
    },
    {
      "cell_type": "markdown",
      "source": [
        "## Check the data"
      ],
      "metadata": {
        "id": "eB2F092KMZQ7"
      }
    },
    {
      "cell_type": "code",
      "execution_count": 1,
      "metadata": {
        "id": "W1KV9b2tJNUP",
        "colab": {
          "base_uri": "https://localhost:8080/"
        },
        "outputId": "c59a7830-3d72-4e70-8963-fbbc2d4bea2e"
      },
      "outputs": [
        {
          "output_type": "stream",
          "name": "stdout",
          "text": [
            "--2023-04-05 00:12:08--  https://github.com/redrum88/data_science/raw/main/data/uk_crimes_2023_01.zip\n",
            "Resolving github.com (github.com)... 140.82.121.3\n",
            "Connecting to github.com (github.com)|140.82.121.3|:443... connected.\n",
            "HTTP request sent, awaiting response... 302 Found\n",
            "Location: https://raw.githubusercontent.com/redrum88/data_science/main/data/uk_crimes_2023_01.zip [following]\n",
            "--2023-04-05 00:12:08--  https://raw.githubusercontent.com/redrum88/data_science/main/data/uk_crimes_2023_01.zip\n",
            "Resolving raw.githubusercontent.com (raw.githubusercontent.com)... 185.199.108.133, 185.199.109.133, 185.199.110.133, ...\n",
            "Connecting to raw.githubusercontent.com (raw.githubusercontent.com)|185.199.108.133|:443... connected.\n",
            "HTTP request sent, awaiting response... 200 OK\n",
            "Length: 20696787 (20M) [application/zip]\n",
            "Saving to: ‘uk_crimes_2023_01.zip.1’\n",
            "\n",
            "uk_crimes_2023_01.z 100%[===================>]  19.74M  --.-KB/s    in 0.09s   \n",
            "\n",
            "2023-04-05 00:12:09 (214 MB/s) - ‘uk_crimes_2023_01.zip.1’ saved [20696787/20696787]\n",
            "\n"
          ]
        }
      ],
      "source": [
        "# Download data\n",
        "!wget https://github.com/redrum88/data_science/raw/main/data/uk_crimes_2023_01.zip"
      ]
    },
    {
      "cell_type": "code",
      "source": [
        "# Import tools\n",
        "import os\n",
        "import numpy as np\n",
        "import pandas as pd\n",
        "import matplotlib.pyplot as plt\n",
        "%matplotlib inline\n",
        "import zipfile"
      ],
      "metadata": {
        "id": "700zM6vTJXJb"
      },
      "execution_count": 2,
      "outputs": []
    },
    {
      "cell_type": "code",
      "source": [
        "## Unzip downloaded dataset\n",
        "# Set zip file path\n",
        "zip_path = \"uk_crimes_2023_01.zip\"\n",
        "\n",
        "# Create a new folder \"dataset\"\n",
        "os.makedirs(\"dataset\", exist_ok=True)\n",
        "\n",
        "# Extract contents to \"dataset\" folder\n",
        "with zipfile.ZipFile(zip_path, \"r\") as zip_ref:\n",
        "    zip_ref.extractall(\"dataset\")"
      ],
      "metadata": {
        "id": "uQ4YmyZcNOAh"
      },
      "execution_count": 3,
      "outputs": []
    },
    {
      "cell_type": "code",
      "source": [
        "os.chdir(\"/content/dataset\")\n",
        "df = pd.DataFrame()\n",
        "\n",
        "# create a list of DataFrames\n",
        "df_list = []\n",
        "for file in os.listdir():\n",
        "    if file.endswith('.csv'):\n",
        "        df_temp = pd.read_csv(file)\n",
        "        df_list.append(df_temp)\n",
        "\n",
        "# concatenate DataFrames\n",
        "df = pd.concat(df_list, ignore_index=True)\n",
        "\n",
        "df.head()"
      ],
      "metadata": {
        "colab": {
          "base_uri": "https://localhost:8080/",
          "height": 565
        },
        "id": "9EWM4tGDOOjz",
        "outputId": "cd34e9f8-60f2-41d9-9a8a-812b0e02e4d4"
      },
      "execution_count": 4,
      "outputs": [
        {
          "output_type": "execute_result",
          "data": {
            "text/plain": [
              "                                            Crime ID    Month  \\\n",
              "0  efa8939fa30f266f2a79c6c3c9778c13670aeedbb0190e...  2023-01   \n",
              "1  5f1bd5581cec329ec985a779b0e59567ef17496a5f28e4...  2023-01   \n",
              "2  246cca11540fe6cf584ce6e2bac43a93c2788aae9f017a...  2023-01   \n",
              "3  173d517361cf6d4586e81e0e096193ae6bccd783d0fa04...  2023-01   \n",
              "4  932d4d4d6896e51746781de92b3102cb2018c55b78fcfc...  2023-01   \n",
              "\n",
              "            Reported by          Falls within  Longitude   Latitude  \\\n",
              "0  West Midlands Police  West Midlands Police  -1.851067  52.593204   \n",
              "1  West Midlands Police  West Midlands Police  -1.847123  52.593864   \n",
              "2  West Midlands Police  West Midlands Police  -1.851067  52.593204   \n",
              "3  West Midlands Police  West Midlands Police  -1.847123  52.593864   \n",
              "4  West Midlands Police  West Midlands Police  -1.847123  52.593864   \n",
              "\n",
              "                   Location  LSOA code        LSOA name  \\\n",
              "0  On or near Longdon Drive  E01009417  Birmingham 001A   \n",
              "1    On or near Bramble Way  E01009417  Birmingham 001A   \n",
              "2  On or near Longdon Drive  E01009417  Birmingham 001A   \n",
              "3    On or near Bramble Way  E01009417  Birmingham 001A   \n",
              "4    On or near Bramble Way  E01009417  Birmingham 001A   \n",
              "\n",
              "                  Crime type                          Last outcome category  \\\n",
              "0                   Burglary                            Under investigation   \n",
              "1                   Burglary  Investigation complete; no suspect identified   \n",
              "2                   Burglary                            Under investigation   \n",
              "3  Criminal damage and arson  Investigation complete; no suspect identified   \n",
              "4  Criminal damage and arson  Investigation complete; no suspect identified   \n",
              "\n",
              "   Context  \n",
              "0      NaN  \n",
              "1      NaN  \n",
              "2      NaN  \n",
              "3      NaN  \n",
              "4      NaN  "
            ],
            "text/html": [
              "\n",
              "  <div id=\"df-8ed44990-b99d-4b70-a80e-9c48eddc755f\">\n",
              "    <div class=\"colab-df-container\">\n",
              "      <div>\n",
              "<style scoped>\n",
              "    .dataframe tbody tr th:only-of-type {\n",
              "        vertical-align: middle;\n",
              "    }\n",
              "\n",
              "    .dataframe tbody tr th {\n",
              "        vertical-align: top;\n",
              "    }\n",
              "\n",
              "    .dataframe thead th {\n",
              "        text-align: right;\n",
              "    }\n",
              "</style>\n",
              "<table border=\"1\" class=\"dataframe\">\n",
              "  <thead>\n",
              "    <tr style=\"text-align: right;\">\n",
              "      <th></th>\n",
              "      <th>Crime ID</th>\n",
              "      <th>Month</th>\n",
              "      <th>Reported by</th>\n",
              "      <th>Falls within</th>\n",
              "      <th>Longitude</th>\n",
              "      <th>Latitude</th>\n",
              "      <th>Location</th>\n",
              "      <th>LSOA code</th>\n",
              "      <th>LSOA name</th>\n",
              "      <th>Crime type</th>\n",
              "      <th>Last outcome category</th>\n",
              "      <th>Context</th>\n",
              "    </tr>\n",
              "  </thead>\n",
              "  <tbody>\n",
              "    <tr>\n",
              "      <th>0</th>\n",
              "      <td>efa8939fa30f266f2a79c6c3c9778c13670aeedbb0190e...</td>\n",
              "      <td>2023-01</td>\n",
              "      <td>West Midlands Police</td>\n",
              "      <td>West Midlands Police</td>\n",
              "      <td>-1.851067</td>\n",
              "      <td>52.593204</td>\n",
              "      <td>On or near Longdon Drive</td>\n",
              "      <td>E01009417</td>\n",
              "      <td>Birmingham 001A</td>\n",
              "      <td>Burglary</td>\n",
              "      <td>Under investigation</td>\n",
              "      <td>NaN</td>\n",
              "    </tr>\n",
              "    <tr>\n",
              "      <th>1</th>\n",
              "      <td>5f1bd5581cec329ec985a779b0e59567ef17496a5f28e4...</td>\n",
              "      <td>2023-01</td>\n",
              "      <td>West Midlands Police</td>\n",
              "      <td>West Midlands Police</td>\n",
              "      <td>-1.847123</td>\n",
              "      <td>52.593864</td>\n",
              "      <td>On or near Bramble Way</td>\n",
              "      <td>E01009417</td>\n",
              "      <td>Birmingham 001A</td>\n",
              "      <td>Burglary</td>\n",
              "      <td>Investigation complete; no suspect identified</td>\n",
              "      <td>NaN</td>\n",
              "    </tr>\n",
              "    <tr>\n",
              "      <th>2</th>\n",
              "      <td>246cca11540fe6cf584ce6e2bac43a93c2788aae9f017a...</td>\n",
              "      <td>2023-01</td>\n",
              "      <td>West Midlands Police</td>\n",
              "      <td>West Midlands Police</td>\n",
              "      <td>-1.851067</td>\n",
              "      <td>52.593204</td>\n",
              "      <td>On or near Longdon Drive</td>\n",
              "      <td>E01009417</td>\n",
              "      <td>Birmingham 001A</td>\n",
              "      <td>Burglary</td>\n",
              "      <td>Under investigation</td>\n",
              "      <td>NaN</td>\n",
              "    </tr>\n",
              "    <tr>\n",
              "      <th>3</th>\n",
              "      <td>173d517361cf6d4586e81e0e096193ae6bccd783d0fa04...</td>\n",
              "      <td>2023-01</td>\n",
              "      <td>West Midlands Police</td>\n",
              "      <td>West Midlands Police</td>\n",
              "      <td>-1.847123</td>\n",
              "      <td>52.593864</td>\n",
              "      <td>On or near Bramble Way</td>\n",
              "      <td>E01009417</td>\n",
              "      <td>Birmingham 001A</td>\n",
              "      <td>Criminal damage and arson</td>\n",
              "      <td>Investigation complete; no suspect identified</td>\n",
              "      <td>NaN</td>\n",
              "    </tr>\n",
              "    <tr>\n",
              "      <th>4</th>\n",
              "      <td>932d4d4d6896e51746781de92b3102cb2018c55b78fcfc...</td>\n",
              "      <td>2023-01</td>\n",
              "      <td>West Midlands Police</td>\n",
              "      <td>West Midlands Police</td>\n",
              "      <td>-1.847123</td>\n",
              "      <td>52.593864</td>\n",
              "      <td>On or near Bramble Way</td>\n",
              "      <td>E01009417</td>\n",
              "      <td>Birmingham 001A</td>\n",
              "      <td>Criminal damage and arson</td>\n",
              "      <td>Investigation complete; no suspect identified</td>\n",
              "      <td>NaN</td>\n",
              "    </tr>\n",
              "  </tbody>\n",
              "</table>\n",
              "</div>\n",
              "      <button class=\"colab-df-convert\" onclick=\"convertToInteractive('df-8ed44990-b99d-4b70-a80e-9c48eddc755f')\"\n",
              "              title=\"Convert this dataframe to an interactive table.\"\n",
              "              style=\"display:none;\">\n",
              "        \n",
              "  <svg xmlns=\"http://www.w3.org/2000/svg\" height=\"24px\"viewBox=\"0 0 24 24\"\n",
              "       width=\"24px\">\n",
              "    <path d=\"M0 0h24v24H0V0z\" fill=\"none\"/>\n",
              "    <path d=\"M18.56 5.44l.94 2.06.94-2.06 2.06-.94-2.06-.94-.94-2.06-.94 2.06-2.06.94zm-11 1L8.5 8.5l.94-2.06 2.06-.94-2.06-.94L8.5 2.5l-.94 2.06-2.06.94zm10 10l.94 2.06.94-2.06 2.06-.94-2.06-.94-.94-2.06-.94 2.06-2.06.94z\"/><path d=\"M17.41 7.96l-1.37-1.37c-.4-.4-.92-.59-1.43-.59-.52 0-1.04.2-1.43.59L10.3 9.45l-7.72 7.72c-.78.78-.78 2.05 0 2.83L4 21.41c.39.39.9.59 1.41.59.51 0 1.02-.2 1.41-.59l7.78-7.78 2.81-2.81c.8-.78.8-2.07 0-2.86zM5.41 20L4 18.59l7.72-7.72 1.47 1.35L5.41 20z\"/>\n",
              "  </svg>\n",
              "      </button>\n",
              "      \n",
              "  <style>\n",
              "    .colab-df-container {\n",
              "      display:flex;\n",
              "      flex-wrap:wrap;\n",
              "      gap: 12px;\n",
              "    }\n",
              "\n",
              "    .colab-df-convert {\n",
              "      background-color: #E8F0FE;\n",
              "      border: none;\n",
              "      border-radius: 50%;\n",
              "      cursor: pointer;\n",
              "      display: none;\n",
              "      fill: #1967D2;\n",
              "      height: 32px;\n",
              "      padding: 0 0 0 0;\n",
              "      width: 32px;\n",
              "    }\n",
              "\n",
              "    .colab-df-convert:hover {\n",
              "      background-color: #E2EBFA;\n",
              "      box-shadow: 0px 1px 2px rgba(60, 64, 67, 0.3), 0px 1px 3px 1px rgba(60, 64, 67, 0.15);\n",
              "      fill: #174EA6;\n",
              "    }\n",
              "\n",
              "    [theme=dark] .colab-df-convert {\n",
              "      background-color: #3B4455;\n",
              "      fill: #D2E3FC;\n",
              "    }\n",
              "\n",
              "    [theme=dark] .colab-df-convert:hover {\n",
              "      background-color: #434B5C;\n",
              "      box-shadow: 0px 1px 3px 1px rgba(0, 0, 0, 0.15);\n",
              "      filter: drop-shadow(0px 1px 2px rgba(0, 0, 0, 0.3));\n",
              "      fill: #FFFFFF;\n",
              "    }\n",
              "  </style>\n",
              "\n",
              "      <script>\n",
              "        const buttonEl =\n",
              "          document.querySelector('#df-8ed44990-b99d-4b70-a80e-9c48eddc755f button.colab-df-convert');\n",
              "        buttonEl.style.display =\n",
              "          google.colab.kernel.accessAllowed ? 'block' : 'none';\n",
              "\n",
              "        async function convertToInteractive(key) {\n",
              "          const element = document.querySelector('#df-8ed44990-b99d-4b70-a80e-9c48eddc755f');\n",
              "          const dataTable =\n",
              "            await google.colab.kernel.invokeFunction('convertToInteractive',\n",
              "                                                     [key], {});\n",
              "          if (!dataTable) return;\n",
              "\n",
              "          const docLinkHtml = 'Like what you see? Visit the ' +\n",
              "            '<a target=\"_blank\" href=https://colab.research.google.com/notebooks/data_table.ipynb>data table notebook</a>'\n",
              "            + ' to learn more about interactive tables.';\n",
              "          element.innerHTML = '';\n",
              "          dataTable['output_type'] = 'display_data';\n",
              "          await google.colab.output.renderOutput(dataTable, element);\n",
              "          const docLink = document.createElement('div');\n",
              "          docLink.innerHTML = docLinkHtml;\n",
              "          element.appendChild(docLink);\n",
              "        }\n",
              "      </script>\n",
              "    </div>\n",
              "  </div>\n",
              "  "
            ]
          },
          "metadata": {},
          "execution_count": 4
        }
      ]
    },
    {
      "cell_type": "markdown",
      "source": [
        "## Data Cleaning"
      ],
      "metadata": {
        "id": "6EPdsW8xgm_N"
      }
    },
    {
      "cell_type": "code",
      "source": [
        "df.info()"
      ],
      "metadata": {
        "colab": {
          "base_uri": "https://localhost:8080/"
        },
        "id": "FU0tX5OpkIqD",
        "outputId": "d98c23df-93ad-457a-a7d1-a4196b70ed30"
      },
      "execution_count": 5,
      "outputs": [
        {
          "output_type": "stream",
          "name": "stdout",
          "text": [
            "<class 'pandas.core.frame.DataFrame'>\n",
            "RangeIndex: 478347 entries, 0 to 478346\n",
            "Data columns (total 12 columns):\n",
            " #   Column                 Non-Null Count   Dtype  \n",
            "---  ------                 --------------   -----  \n",
            " 0   Crime ID               413159 non-null  object \n",
            " 1   Month                  478347 non-null  object \n",
            " 2   Reported by            478347 non-null  object \n",
            " 3   Falls within           478347 non-null  object \n",
            " 4   Longitude              470741 non-null  float64\n",
            " 5   Latitude               470741 non-null  float64\n",
            " 6   Location               478347 non-null  object \n",
            " 7   LSOA code              458368 non-null  object \n",
            " 8   LSOA name              458368 non-null  object \n",
            " 9   Crime type             478347 non-null  object \n",
            " 10  Last outcome category  404512 non-null  object \n",
            " 11  Context                0 non-null       float64\n",
            "dtypes: float64(3), object(9)\n",
            "memory usage: 43.8+ MB\n"
          ]
        }
      ]
    },
    {
      "cell_type": "code",
      "source": [
        "df.columns"
      ],
      "metadata": {
        "colab": {
          "base_uri": "https://localhost:8080/"
        },
        "id": "af5L_R--kKdm",
        "outputId": "aa49ab94-d3c8-438e-d451-421c23c9a5f5"
      },
      "execution_count": 6,
      "outputs": [
        {
          "output_type": "execute_result",
          "data": {
            "text/plain": [
              "Index(['Crime ID', 'Month', 'Reported by', 'Falls within', 'Longitude',\n",
              "       'Latitude', 'Location', 'LSOA code', 'LSOA name', 'Crime type',\n",
              "       'Last outcome category', 'Context'],\n",
              "      dtype='object')"
            ]
          },
          "metadata": {},
          "execution_count": 6
        }
      ]
    },
    {
      "cell_type": "code",
      "source": [
        "df.isnull().sum()"
      ],
      "metadata": {
        "colab": {
          "base_uri": "https://localhost:8080/"
        },
        "id": "Lu4gHrYHkPKj",
        "outputId": "1037f4eb-9b05-48b8-a89c-13870e14c05a"
      },
      "execution_count": 7,
      "outputs": [
        {
          "output_type": "execute_result",
          "data": {
            "text/plain": [
              "Crime ID                  65188\n",
              "Month                         0\n",
              "Reported by                   0\n",
              "Falls within                  0\n",
              "Longitude                  7606\n",
              "Latitude                   7606\n",
              "Location                      0\n",
              "LSOA code                 19979\n",
              "LSOA name                 19979\n",
              "Crime type                    0\n",
              "Last outcome category     73835\n",
              "Context                  478347\n",
              "dtype: int64"
            ]
          },
          "metadata": {},
          "execution_count": 7
        }
      ]
    },
    {
      "cell_type": "code",
      "source": [
        "df = df.drop(labels=[\"Crime ID\", \"Month\"], axis=1)"
      ],
      "metadata": {
        "id": "ZqtGkxqYkeeE"
      },
      "execution_count": 8,
      "outputs": []
    },
    {
      "cell_type": "code",
      "source": [
        "df[\"Reported by\"].value_counts()\n"
      ],
      "metadata": {
        "colab": {
          "base_uri": "https://localhost:8080/"
        },
        "id": "B01i_BeCk5lp",
        "outputId": "a3042be9-06e3-4470-f409-d8db56cd47d0"
      },
      "execution_count": 9,
      "outputs": [
        {
          "output_type": "execute_result",
          "data": {
            "text/plain": [
              "Metropolitan Police Service           87211\n",
              "West Midlands Police                  30937\n",
              "West Yorkshire Police                 27442\n",
              "Thames Valley Police                  16893\n",
              "South Yorkshire Police                14770\n",
              "Hampshire Constabulary                14578\n",
              "Kent Police                           14573\n",
              "Northumbria Police                    14513\n",
              "Merseyside Police                     14147\n",
              "Essex Police                          13935\n",
              "Lancashire Constabulary               13923\n",
              "Avon and Somerset Constabulary        12566\n",
              "Police Service of Northern Ireland    11970\n",
              "Sussex Police                         11899\n",
              "South Wales Police                    10187\n",
              "West Mercia Police                     9510\n",
              "Staffordshire Police                   9008\n",
              "Nottinghamshire Police                 8914\n",
              "Derbyshire Constabulary                8884\n",
              "Leicestershire Police                  8676\n",
              "Humberside Police                      8583\n",
              "Hertfordshire Constabulary             8168\n",
              "Cleveland Police                       7663\n",
              "Surrey Police                          6942\n",
              "Cambridgeshire Constabulary            6930\n",
              "Cheshire Constabulary                  6781\n",
              "Durham Constabulary                    6240\n",
              "Northamptonshire Police                5922\n",
              "Norfolk Constabulary                   5837\n",
              "North Wales Police                     5631\n",
              "Lincolnshire Police                    5290\n",
              "North Yorkshire Police                 5259\n",
              "Gloucestershire Constabulary           5160\n",
              "Dorset Police                          4851\n",
              "British Transport Police               4737\n",
              "Gwent Police                           4733\n",
              "Bedfordshire Police                    4481\n",
              "Suffolk Constabulary                   4379\n",
              "Wiltshire Police                       4210\n",
              "Warwickshire Police                    4141\n",
              "Dyfed-Powys Police                     3807\n",
              "Cumbria Constabulary                   3347\n",
              "City of London Police                   719\n",
              "Name: Reported by, dtype: int64"
            ]
          },
          "metadata": {},
          "execution_count": 9
        }
      ]
    },
    {
      "cell_type": "code",
      "source": [
        "df[df['Reported by'] != df['Falls within']]"
      ],
      "metadata": {
        "colab": {
          "base_uri": "https://localhost:8080/",
          "height": 93
        },
        "id": "V_zWNidll8M1",
        "outputId": "111f5902-fb46-4cba-aea0-6890a4adf4a2"
      },
      "execution_count": 10,
      "outputs": [
        {
          "output_type": "execute_result",
          "data": {
            "text/plain": [
              "Empty DataFrame\n",
              "Columns: [Reported by, Falls within, Longitude, Latitude, Location, LSOA code, LSOA name, Crime type, Last outcome category, Context]\n",
              "Index: []"
            ],
            "text/html": [
              "\n",
              "  <div id=\"df-5cb98a09-17fe-4db2-8d6b-13258eb9e989\">\n",
              "    <div class=\"colab-df-container\">\n",
              "      <div>\n",
              "<style scoped>\n",
              "    .dataframe tbody tr th:only-of-type {\n",
              "        vertical-align: middle;\n",
              "    }\n",
              "\n",
              "    .dataframe tbody tr th {\n",
              "        vertical-align: top;\n",
              "    }\n",
              "\n",
              "    .dataframe thead th {\n",
              "        text-align: right;\n",
              "    }\n",
              "</style>\n",
              "<table border=\"1\" class=\"dataframe\">\n",
              "  <thead>\n",
              "    <tr style=\"text-align: right;\">\n",
              "      <th></th>\n",
              "      <th>Reported by</th>\n",
              "      <th>Falls within</th>\n",
              "      <th>Longitude</th>\n",
              "      <th>Latitude</th>\n",
              "      <th>Location</th>\n",
              "      <th>LSOA code</th>\n",
              "      <th>LSOA name</th>\n",
              "      <th>Crime type</th>\n",
              "      <th>Last outcome category</th>\n",
              "      <th>Context</th>\n",
              "    </tr>\n",
              "  </thead>\n",
              "  <tbody>\n",
              "  </tbody>\n",
              "</table>\n",
              "</div>\n",
              "      <button class=\"colab-df-convert\" onclick=\"convertToInteractive('df-5cb98a09-17fe-4db2-8d6b-13258eb9e989')\"\n",
              "              title=\"Convert this dataframe to an interactive table.\"\n",
              "              style=\"display:none;\">\n",
              "        \n",
              "  <svg xmlns=\"http://www.w3.org/2000/svg\" height=\"24px\"viewBox=\"0 0 24 24\"\n",
              "       width=\"24px\">\n",
              "    <path d=\"M0 0h24v24H0V0z\" fill=\"none\"/>\n",
              "    <path d=\"M18.56 5.44l.94 2.06.94-2.06 2.06-.94-2.06-.94-.94-2.06-.94 2.06-2.06.94zm-11 1L8.5 8.5l.94-2.06 2.06-.94-2.06-.94L8.5 2.5l-.94 2.06-2.06.94zm10 10l.94 2.06.94-2.06 2.06-.94-2.06-.94-.94-2.06-.94 2.06-2.06.94z\"/><path d=\"M17.41 7.96l-1.37-1.37c-.4-.4-.92-.59-1.43-.59-.52 0-1.04.2-1.43.59L10.3 9.45l-7.72 7.72c-.78.78-.78 2.05 0 2.83L4 21.41c.39.39.9.59 1.41.59.51 0 1.02-.2 1.41-.59l7.78-7.78 2.81-2.81c.8-.78.8-2.07 0-2.86zM5.41 20L4 18.59l7.72-7.72 1.47 1.35L5.41 20z\"/>\n",
              "  </svg>\n",
              "      </button>\n",
              "      \n",
              "  <style>\n",
              "    .colab-df-container {\n",
              "      display:flex;\n",
              "      flex-wrap:wrap;\n",
              "      gap: 12px;\n",
              "    }\n",
              "\n",
              "    .colab-df-convert {\n",
              "      background-color: #E8F0FE;\n",
              "      border: none;\n",
              "      border-radius: 50%;\n",
              "      cursor: pointer;\n",
              "      display: none;\n",
              "      fill: #1967D2;\n",
              "      height: 32px;\n",
              "      padding: 0 0 0 0;\n",
              "      width: 32px;\n",
              "    }\n",
              "\n",
              "    .colab-df-convert:hover {\n",
              "      background-color: #E2EBFA;\n",
              "      box-shadow: 0px 1px 2px rgba(60, 64, 67, 0.3), 0px 1px 3px 1px rgba(60, 64, 67, 0.15);\n",
              "      fill: #174EA6;\n",
              "    }\n",
              "\n",
              "    [theme=dark] .colab-df-convert {\n",
              "      background-color: #3B4455;\n",
              "      fill: #D2E3FC;\n",
              "    }\n",
              "\n",
              "    [theme=dark] .colab-df-convert:hover {\n",
              "      background-color: #434B5C;\n",
              "      box-shadow: 0px 1px 3px 1px rgba(0, 0, 0, 0.15);\n",
              "      filter: drop-shadow(0px 1px 2px rgba(0, 0, 0, 0.3));\n",
              "      fill: #FFFFFF;\n",
              "    }\n",
              "  </style>\n",
              "\n",
              "      <script>\n",
              "        const buttonEl =\n",
              "          document.querySelector('#df-5cb98a09-17fe-4db2-8d6b-13258eb9e989 button.colab-df-convert');\n",
              "        buttonEl.style.display =\n",
              "          google.colab.kernel.accessAllowed ? 'block' : 'none';\n",
              "\n",
              "        async function convertToInteractive(key) {\n",
              "          const element = document.querySelector('#df-5cb98a09-17fe-4db2-8d6b-13258eb9e989');\n",
              "          const dataTable =\n",
              "            await google.colab.kernel.invokeFunction('convertToInteractive',\n",
              "                                                     [key], {});\n",
              "          if (!dataTable) return;\n",
              "\n",
              "          const docLinkHtml = 'Like what you see? Visit the ' +\n",
              "            '<a target=\"_blank\" href=https://colab.research.google.com/notebooks/data_table.ipynb>data table notebook</a>'\n",
              "            + ' to learn more about interactive tables.';\n",
              "          element.innerHTML = '';\n",
              "          dataTable['output_type'] = 'display_data';\n",
              "          await google.colab.output.renderOutput(dataTable, element);\n",
              "          const docLink = document.createElement('div');\n",
              "          docLink.innerHTML = docLinkHtml;\n",
              "          element.appendChild(docLink);\n",
              "        }\n",
              "      </script>\n",
              "    </div>\n",
              "  </div>\n",
              "  "
            ]
          },
          "metadata": {},
          "execution_count": 10
        }
      ]
    },
    {
      "cell_type": "code",
      "source": [
        "df = df.drop(labels=['LSOA code', 'Context','Falls within'], axis=1)\n",
        "df.head()"
      ],
      "metadata": {
        "colab": {
          "base_uri": "https://localhost:8080/",
          "height": 337
        },
        "id": "_VaHhyp-my_S",
        "outputId": "855bc81c-3e5b-49e8-d821-b3ee06d84c5c"
      },
      "execution_count": 11,
      "outputs": [
        {
          "output_type": "execute_result",
          "data": {
            "text/plain": [
              "            Reported by  Longitude   Latitude                  Location  \\\n",
              "0  West Midlands Police  -1.851067  52.593204  On or near Longdon Drive   \n",
              "1  West Midlands Police  -1.847123  52.593864    On or near Bramble Way   \n",
              "2  West Midlands Police  -1.851067  52.593204  On or near Longdon Drive   \n",
              "3  West Midlands Police  -1.847123  52.593864    On or near Bramble Way   \n",
              "4  West Midlands Police  -1.847123  52.593864    On or near Bramble Way   \n",
              "\n",
              "         LSOA name                 Crime type  \\\n",
              "0  Birmingham 001A                   Burglary   \n",
              "1  Birmingham 001A                   Burglary   \n",
              "2  Birmingham 001A                   Burglary   \n",
              "3  Birmingham 001A  Criminal damage and arson   \n",
              "4  Birmingham 001A  Criminal damage and arson   \n",
              "\n",
              "                           Last outcome category  \n",
              "0                            Under investigation  \n",
              "1  Investigation complete; no suspect identified  \n",
              "2                            Under investigation  \n",
              "3  Investigation complete; no suspect identified  \n",
              "4  Investigation complete; no suspect identified  "
            ],
            "text/html": [
              "\n",
              "  <div id=\"df-4e2b5f49-5726-452b-b256-a0465ffc854e\">\n",
              "    <div class=\"colab-df-container\">\n",
              "      <div>\n",
              "<style scoped>\n",
              "    .dataframe tbody tr th:only-of-type {\n",
              "        vertical-align: middle;\n",
              "    }\n",
              "\n",
              "    .dataframe tbody tr th {\n",
              "        vertical-align: top;\n",
              "    }\n",
              "\n",
              "    .dataframe thead th {\n",
              "        text-align: right;\n",
              "    }\n",
              "</style>\n",
              "<table border=\"1\" class=\"dataframe\">\n",
              "  <thead>\n",
              "    <tr style=\"text-align: right;\">\n",
              "      <th></th>\n",
              "      <th>Reported by</th>\n",
              "      <th>Longitude</th>\n",
              "      <th>Latitude</th>\n",
              "      <th>Location</th>\n",
              "      <th>LSOA name</th>\n",
              "      <th>Crime type</th>\n",
              "      <th>Last outcome category</th>\n",
              "    </tr>\n",
              "  </thead>\n",
              "  <tbody>\n",
              "    <tr>\n",
              "      <th>0</th>\n",
              "      <td>West Midlands Police</td>\n",
              "      <td>-1.851067</td>\n",
              "      <td>52.593204</td>\n",
              "      <td>On or near Longdon Drive</td>\n",
              "      <td>Birmingham 001A</td>\n",
              "      <td>Burglary</td>\n",
              "      <td>Under investigation</td>\n",
              "    </tr>\n",
              "    <tr>\n",
              "      <th>1</th>\n",
              "      <td>West Midlands Police</td>\n",
              "      <td>-1.847123</td>\n",
              "      <td>52.593864</td>\n",
              "      <td>On or near Bramble Way</td>\n",
              "      <td>Birmingham 001A</td>\n",
              "      <td>Burglary</td>\n",
              "      <td>Investigation complete; no suspect identified</td>\n",
              "    </tr>\n",
              "    <tr>\n",
              "      <th>2</th>\n",
              "      <td>West Midlands Police</td>\n",
              "      <td>-1.851067</td>\n",
              "      <td>52.593204</td>\n",
              "      <td>On or near Longdon Drive</td>\n",
              "      <td>Birmingham 001A</td>\n",
              "      <td>Burglary</td>\n",
              "      <td>Under investigation</td>\n",
              "    </tr>\n",
              "    <tr>\n",
              "      <th>3</th>\n",
              "      <td>West Midlands Police</td>\n",
              "      <td>-1.847123</td>\n",
              "      <td>52.593864</td>\n",
              "      <td>On or near Bramble Way</td>\n",
              "      <td>Birmingham 001A</td>\n",
              "      <td>Criminal damage and arson</td>\n",
              "      <td>Investigation complete; no suspect identified</td>\n",
              "    </tr>\n",
              "    <tr>\n",
              "      <th>4</th>\n",
              "      <td>West Midlands Police</td>\n",
              "      <td>-1.847123</td>\n",
              "      <td>52.593864</td>\n",
              "      <td>On or near Bramble Way</td>\n",
              "      <td>Birmingham 001A</td>\n",
              "      <td>Criminal damage and arson</td>\n",
              "      <td>Investigation complete; no suspect identified</td>\n",
              "    </tr>\n",
              "  </tbody>\n",
              "</table>\n",
              "</div>\n",
              "      <button class=\"colab-df-convert\" onclick=\"convertToInteractive('df-4e2b5f49-5726-452b-b256-a0465ffc854e')\"\n",
              "              title=\"Convert this dataframe to an interactive table.\"\n",
              "              style=\"display:none;\">\n",
              "        \n",
              "  <svg xmlns=\"http://www.w3.org/2000/svg\" height=\"24px\"viewBox=\"0 0 24 24\"\n",
              "       width=\"24px\">\n",
              "    <path d=\"M0 0h24v24H0V0z\" fill=\"none\"/>\n",
              "    <path d=\"M18.56 5.44l.94 2.06.94-2.06 2.06-.94-2.06-.94-.94-2.06-.94 2.06-2.06.94zm-11 1L8.5 8.5l.94-2.06 2.06-.94-2.06-.94L8.5 2.5l-.94 2.06-2.06.94zm10 10l.94 2.06.94-2.06 2.06-.94-2.06-.94-.94-2.06-.94 2.06-2.06.94z\"/><path d=\"M17.41 7.96l-1.37-1.37c-.4-.4-.92-.59-1.43-.59-.52 0-1.04.2-1.43.59L10.3 9.45l-7.72 7.72c-.78.78-.78 2.05 0 2.83L4 21.41c.39.39.9.59 1.41.59.51 0 1.02-.2 1.41-.59l7.78-7.78 2.81-2.81c.8-.78.8-2.07 0-2.86zM5.41 20L4 18.59l7.72-7.72 1.47 1.35L5.41 20z\"/>\n",
              "  </svg>\n",
              "      </button>\n",
              "      \n",
              "  <style>\n",
              "    .colab-df-container {\n",
              "      display:flex;\n",
              "      flex-wrap:wrap;\n",
              "      gap: 12px;\n",
              "    }\n",
              "\n",
              "    .colab-df-convert {\n",
              "      background-color: #E8F0FE;\n",
              "      border: none;\n",
              "      border-radius: 50%;\n",
              "      cursor: pointer;\n",
              "      display: none;\n",
              "      fill: #1967D2;\n",
              "      height: 32px;\n",
              "      padding: 0 0 0 0;\n",
              "      width: 32px;\n",
              "    }\n",
              "\n",
              "    .colab-df-convert:hover {\n",
              "      background-color: #E2EBFA;\n",
              "      box-shadow: 0px 1px 2px rgba(60, 64, 67, 0.3), 0px 1px 3px 1px rgba(60, 64, 67, 0.15);\n",
              "      fill: #174EA6;\n",
              "    }\n",
              "\n",
              "    [theme=dark] .colab-df-convert {\n",
              "      background-color: #3B4455;\n",
              "      fill: #D2E3FC;\n",
              "    }\n",
              "\n",
              "    [theme=dark] .colab-df-convert:hover {\n",
              "      background-color: #434B5C;\n",
              "      box-shadow: 0px 1px 3px 1px rgba(0, 0, 0, 0.15);\n",
              "      filter: drop-shadow(0px 1px 2px rgba(0, 0, 0, 0.3));\n",
              "      fill: #FFFFFF;\n",
              "    }\n",
              "  </style>\n",
              "\n",
              "      <script>\n",
              "        const buttonEl =\n",
              "          document.querySelector('#df-4e2b5f49-5726-452b-b256-a0465ffc854e button.colab-df-convert');\n",
              "        buttonEl.style.display =\n",
              "          google.colab.kernel.accessAllowed ? 'block' : 'none';\n",
              "\n",
              "        async function convertToInteractive(key) {\n",
              "          const element = document.querySelector('#df-4e2b5f49-5726-452b-b256-a0465ffc854e');\n",
              "          const dataTable =\n",
              "            await google.colab.kernel.invokeFunction('convertToInteractive',\n",
              "                                                     [key], {});\n",
              "          if (!dataTable) return;\n",
              "\n",
              "          const docLinkHtml = 'Like what you see? Visit the ' +\n",
              "            '<a target=\"_blank\" href=https://colab.research.google.com/notebooks/data_table.ipynb>data table notebook</a>'\n",
              "            + ' to learn more about interactive tables.';\n",
              "          element.innerHTML = '';\n",
              "          dataTable['output_type'] = 'display_data';\n",
              "          await google.colab.output.renderOutput(dataTable, element);\n",
              "          const docLink = document.createElement('div');\n",
              "          docLink.innerHTML = docLinkHtml;\n",
              "          element.appendChild(docLink);\n",
              "        }\n",
              "      </script>\n",
              "    </div>\n",
              "  </div>\n",
              "  "
            ]
          },
          "metadata": {},
          "execution_count": 11
        }
      ]
    },
    {
      "cell_type": "code",
      "source": [
        "df = df.dropna()"
      ],
      "metadata": {
        "id": "fV-tcHS4nn-3"
      },
      "execution_count": 12,
      "outputs": []
    },
    {
      "cell_type": "code",
      "source": [
        "len(df)"
      ],
      "metadata": {
        "colab": {
          "base_uri": "https://localhost:8080/"
        },
        "id": "qGYjQkm5oA7r",
        "outputId": "b85472c1-ce1c-48ea-8e01-f5f3455e19fe"
      },
      "execution_count": 13,
      "outputs": [
        {
          "output_type": "execute_result",
          "data": {
            "text/plain": [
              "397205"
            ]
          },
          "metadata": {},
          "execution_count": 13
        }
      ]
    },
    {
      "cell_type": "code",
      "source": [
        "df.isnull().sum()"
      ],
      "metadata": {
        "colab": {
          "base_uri": "https://localhost:8080/"
        },
        "id": "_Irp21kLoDPT",
        "outputId": "c0ae6b79-055a-4e98-fc8c-d1e0f1498132"
      },
      "execution_count": 14,
      "outputs": [
        {
          "output_type": "execute_result",
          "data": {
            "text/plain": [
              "Reported by              0\n",
              "Longitude                0\n",
              "Latitude                 0\n",
              "Location                 0\n",
              "LSOA name                0\n",
              "Crime type               0\n",
              "Last outcome category    0\n",
              "dtype: int64"
            ]
          },
          "metadata": {},
          "execution_count": 14
        }
      ]
    },
    {
      "cell_type": "code",
      "source": [
        "df.head()"
      ],
      "metadata": {
        "colab": {
          "base_uri": "https://localhost:8080/",
          "height": 337
        },
        "id": "1F90warPoHN-",
        "outputId": "31cf9c8d-b1e5-47be-be50-4ac25361332c"
      },
      "execution_count": 15,
      "outputs": [
        {
          "output_type": "execute_result",
          "data": {
            "text/plain": [
              "            Reported by  Longitude   Latitude                  Location  \\\n",
              "0  West Midlands Police  -1.851067  52.593204  On or near Longdon Drive   \n",
              "1  West Midlands Police  -1.847123  52.593864    On or near Bramble Way   \n",
              "2  West Midlands Police  -1.851067  52.593204  On or near Longdon Drive   \n",
              "3  West Midlands Police  -1.847123  52.593864    On or near Bramble Way   \n",
              "4  West Midlands Police  -1.847123  52.593864    On or near Bramble Way   \n",
              "\n",
              "         LSOA name                 Crime type  \\\n",
              "0  Birmingham 001A                   Burglary   \n",
              "1  Birmingham 001A                   Burglary   \n",
              "2  Birmingham 001A                   Burglary   \n",
              "3  Birmingham 001A  Criminal damage and arson   \n",
              "4  Birmingham 001A  Criminal damage and arson   \n",
              "\n",
              "                           Last outcome category  \n",
              "0                            Under investigation  \n",
              "1  Investigation complete; no suspect identified  \n",
              "2                            Under investigation  \n",
              "3  Investigation complete; no suspect identified  \n",
              "4  Investigation complete; no suspect identified  "
            ],
            "text/html": [
              "\n",
              "  <div id=\"df-2f9819a5-a3f4-482e-b267-0ffbbb9d5800\">\n",
              "    <div class=\"colab-df-container\">\n",
              "      <div>\n",
              "<style scoped>\n",
              "    .dataframe tbody tr th:only-of-type {\n",
              "        vertical-align: middle;\n",
              "    }\n",
              "\n",
              "    .dataframe tbody tr th {\n",
              "        vertical-align: top;\n",
              "    }\n",
              "\n",
              "    .dataframe thead th {\n",
              "        text-align: right;\n",
              "    }\n",
              "</style>\n",
              "<table border=\"1\" class=\"dataframe\">\n",
              "  <thead>\n",
              "    <tr style=\"text-align: right;\">\n",
              "      <th></th>\n",
              "      <th>Reported by</th>\n",
              "      <th>Longitude</th>\n",
              "      <th>Latitude</th>\n",
              "      <th>Location</th>\n",
              "      <th>LSOA name</th>\n",
              "      <th>Crime type</th>\n",
              "      <th>Last outcome category</th>\n",
              "    </tr>\n",
              "  </thead>\n",
              "  <tbody>\n",
              "    <tr>\n",
              "      <th>0</th>\n",
              "      <td>West Midlands Police</td>\n",
              "      <td>-1.851067</td>\n",
              "      <td>52.593204</td>\n",
              "      <td>On or near Longdon Drive</td>\n",
              "      <td>Birmingham 001A</td>\n",
              "      <td>Burglary</td>\n",
              "      <td>Under investigation</td>\n",
              "    </tr>\n",
              "    <tr>\n",
              "      <th>1</th>\n",
              "      <td>West Midlands Police</td>\n",
              "      <td>-1.847123</td>\n",
              "      <td>52.593864</td>\n",
              "      <td>On or near Bramble Way</td>\n",
              "      <td>Birmingham 001A</td>\n",
              "      <td>Burglary</td>\n",
              "      <td>Investigation complete; no suspect identified</td>\n",
              "    </tr>\n",
              "    <tr>\n",
              "      <th>2</th>\n",
              "      <td>West Midlands Police</td>\n",
              "      <td>-1.851067</td>\n",
              "      <td>52.593204</td>\n",
              "      <td>On or near Longdon Drive</td>\n",
              "      <td>Birmingham 001A</td>\n",
              "      <td>Burglary</td>\n",
              "      <td>Under investigation</td>\n",
              "    </tr>\n",
              "    <tr>\n",
              "      <th>3</th>\n",
              "      <td>West Midlands Police</td>\n",
              "      <td>-1.847123</td>\n",
              "      <td>52.593864</td>\n",
              "      <td>On or near Bramble Way</td>\n",
              "      <td>Birmingham 001A</td>\n",
              "      <td>Criminal damage and arson</td>\n",
              "      <td>Investigation complete; no suspect identified</td>\n",
              "    </tr>\n",
              "    <tr>\n",
              "      <th>4</th>\n",
              "      <td>West Midlands Police</td>\n",
              "      <td>-1.847123</td>\n",
              "      <td>52.593864</td>\n",
              "      <td>On or near Bramble Way</td>\n",
              "      <td>Birmingham 001A</td>\n",
              "      <td>Criminal damage and arson</td>\n",
              "      <td>Investigation complete; no suspect identified</td>\n",
              "    </tr>\n",
              "  </tbody>\n",
              "</table>\n",
              "</div>\n",
              "      <button class=\"colab-df-convert\" onclick=\"convertToInteractive('df-2f9819a5-a3f4-482e-b267-0ffbbb9d5800')\"\n",
              "              title=\"Convert this dataframe to an interactive table.\"\n",
              "              style=\"display:none;\">\n",
              "        \n",
              "  <svg xmlns=\"http://www.w3.org/2000/svg\" height=\"24px\"viewBox=\"0 0 24 24\"\n",
              "       width=\"24px\">\n",
              "    <path d=\"M0 0h24v24H0V0z\" fill=\"none\"/>\n",
              "    <path d=\"M18.56 5.44l.94 2.06.94-2.06 2.06-.94-2.06-.94-.94-2.06-.94 2.06-2.06.94zm-11 1L8.5 8.5l.94-2.06 2.06-.94-2.06-.94L8.5 2.5l-.94 2.06-2.06.94zm10 10l.94 2.06.94-2.06 2.06-.94-2.06-.94-.94-2.06-.94 2.06-2.06.94z\"/><path d=\"M17.41 7.96l-1.37-1.37c-.4-.4-.92-.59-1.43-.59-.52 0-1.04.2-1.43.59L10.3 9.45l-7.72 7.72c-.78.78-.78 2.05 0 2.83L4 21.41c.39.39.9.59 1.41.59.51 0 1.02-.2 1.41-.59l7.78-7.78 2.81-2.81c.8-.78.8-2.07 0-2.86zM5.41 20L4 18.59l7.72-7.72 1.47 1.35L5.41 20z\"/>\n",
              "  </svg>\n",
              "      </button>\n",
              "      \n",
              "  <style>\n",
              "    .colab-df-container {\n",
              "      display:flex;\n",
              "      flex-wrap:wrap;\n",
              "      gap: 12px;\n",
              "    }\n",
              "\n",
              "    .colab-df-convert {\n",
              "      background-color: #E8F0FE;\n",
              "      border: none;\n",
              "      border-radius: 50%;\n",
              "      cursor: pointer;\n",
              "      display: none;\n",
              "      fill: #1967D2;\n",
              "      height: 32px;\n",
              "      padding: 0 0 0 0;\n",
              "      width: 32px;\n",
              "    }\n",
              "\n",
              "    .colab-df-convert:hover {\n",
              "      background-color: #E2EBFA;\n",
              "      box-shadow: 0px 1px 2px rgba(60, 64, 67, 0.3), 0px 1px 3px 1px rgba(60, 64, 67, 0.15);\n",
              "      fill: #174EA6;\n",
              "    }\n",
              "\n",
              "    [theme=dark] .colab-df-convert {\n",
              "      background-color: #3B4455;\n",
              "      fill: #D2E3FC;\n",
              "    }\n",
              "\n",
              "    [theme=dark] .colab-df-convert:hover {\n",
              "      background-color: #434B5C;\n",
              "      box-shadow: 0px 1px 3px 1px rgba(0, 0, 0, 0.15);\n",
              "      filter: drop-shadow(0px 1px 2px rgba(0, 0, 0, 0.3));\n",
              "      fill: #FFFFFF;\n",
              "    }\n",
              "  </style>\n",
              "\n",
              "      <script>\n",
              "        const buttonEl =\n",
              "          document.querySelector('#df-2f9819a5-a3f4-482e-b267-0ffbbb9d5800 button.colab-df-convert');\n",
              "        buttonEl.style.display =\n",
              "          google.colab.kernel.accessAllowed ? 'block' : 'none';\n",
              "\n",
              "        async function convertToInteractive(key) {\n",
              "          const element = document.querySelector('#df-2f9819a5-a3f4-482e-b267-0ffbbb9d5800');\n",
              "          const dataTable =\n",
              "            await google.colab.kernel.invokeFunction('convertToInteractive',\n",
              "                                                     [key], {});\n",
              "          if (!dataTable) return;\n",
              "\n",
              "          const docLinkHtml = 'Like what you see? Visit the ' +\n",
              "            '<a target=\"_blank\" href=https://colab.research.google.com/notebooks/data_table.ipynb>data table notebook</a>'\n",
              "            + ' to learn more about interactive tables.';\n",
              "          element.innerHTML = '';\n",
              "          dataTable['output_type'] = 'display_data';\n",
              "          await google.colab.output.renderOutput(dataTable, element);\n",
              "          const docLink = document.createElement('div');\n",
              "          docLink.innerHTML = docLinkHtml;\n",
              "          element.appendChild(docLink);\n",
              "        }\n",
              "      </script>\n",
              "    </div>\n",
              "  </div>\n",
              "  "
            ]
          },
          "metadata": {},
          "execution_count": 15
        }
      ]
    },
    {
      "cell_type": "code",
      "source": [
        "df[\"Crime type\"].unique()"
      ],
      "metadata": {
        "colab": {
          "base_uri": "https://localhost:8080/"
        },
        "id": "9bRDmYlnoQvl",
        "outputId": "8dfd643f-3b53-4187-8993-75af2b3c89bb"
      },
      "execution_count": 16,
      "outputs": [
        {
          "output_type": "execute_result",
          "data": {
            "text/plain": [
              "array(['Burglary', 'Criminal damage and arson', 'Vehicle crime',\n",
              "       'Violence and sexual offences', 'Public order', 'Bicycle theft',\n",
              "       'Other theft', 'Shoplifting', 'Other crime',\n",
              "       'Theft from the person', 'Drugs', 'Possession of weapons',\n",
              "       'Robbery'], dtype=object)"
            ]
          },
          "metadata": {},
          "execution_count": 16
        }
      ]
    },
    {
      "cell_type": "code",
      "source": [
        "len(df[\"LSOA name\"].unique())"
      ],
      "metadata": {
        "colab": {
          "base_uri": "https://localhost:8080/"
        },
        "id": "3a-JqhKToenl",
        "outputId": "3d6b18be-808c-4100-8bc7-4760b89a56d1"
      },
      "execution_count": 17,
      "outputs": [
        {
          "output_type": "execute_result",
          "data": {
            "text/plain": [
              "31387"
            ]
          },
          "metadata": {},
          "execution_count": 17
        }
      ]
    },
    {
      "cell_type": "code",
      "source": [
        "len(df[\"Last outcome category\"].unique())"
      ],
      "metadata": {
        "colab": {
          "base_uri": "https://localhost:8080/"
        },
        "id": "VkIVyrFbo01r",
        "outputId": "9dae787f-2a71-46fe-dc8c-89d19570bf44"
      },
      "execution_count": 18,
      "outputs": [
        {
          "output_type": "execute_result",
          "data": {
            "text/plain": [
              "13"
            ]
          },
          "metadata": {},
          "execution_count": 18
        }
      ]
    },
    {
      "cell_type": "code",
      "source": [
        "df[\"Last outcome category\"].unique()"
      ],
      "metadata": {
        "colab": {
          "base_uri": "https://localhost:8080/"
        },
        "id": "detHIBzso8th",
        "outputId": "514f1810-e94a-4c3c-eb45-374ab3b82a5a"
      },
      "execution_count": 19,
      "outputs": [
        {
          "output_type": "execute_result",
          "data": {
            "text/plain": [
              "array(['Under investigation',\n",
              "       'Investigation complete; no suspect identified',\n",
              "       'Unable to prosecute suspect', 'Local resolution',\n",
              "       'Action to be taken by another organisation',\n",
              "       'Awaiting court outcome', 'Offender given a caution',\n",
              "       'Further investigation is not in the public interest',\n",
              "       'Formal action is not in the public interest',\n",
              "       'Offender given a drugs possession warning',\n",
              "       'Further action is not in the public interest',\n",
              "       'Offender given penalty notice',\n",
              "       'Suspect charged as part of another case'], dtype=object)"
            ]
          },
          "metadata": {},
          "execution_count": 19
        }
      ]
    },
    {
      "cell_type": "code",
      "source": [],
      "metadata": {
        "id": "xJel49CzpAuq"
      },
      "execution_count": 29,
      "outputs": []
    },
    {
      "cell_type": "code",
      "source": [],
      "metadata": {
        "id": "vFH94RiFtMzo"
      },
      "execution_count": 21,
      "outputs": []
    }
  ]
}